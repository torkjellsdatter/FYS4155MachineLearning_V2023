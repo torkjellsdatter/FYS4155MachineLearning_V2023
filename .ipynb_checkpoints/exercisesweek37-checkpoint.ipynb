{
 "cells": [
  {
   "cell_type": "markdown",
   "id": "ebfc874e",
   "metadata": {},
   "source": [
    "<!-- HTML file automatically generated from DocOnce source (https://github.com/doconce/doconce/)\n",
    "doconce format html exercisesweek37.do.txt  -->\n",
    "<!-- dom:TITLE: Exercises week 37 -->"
   ]
  },
  {
   "cell_type": "markdown",
   "id": "8ecf95b0",
   "metadata": {},
   "source": [
    "# Exercises week 37\n",
    "**September 11-15, 2023**\n",
    "\n",
    "Date: **Deadline is Sunday September 17 at midnight**"
   ]
  },
  {
   "cell_type": "markdown",
   "id": "7940e437",
   "metadata": {},
   "source": [
    "## Overarching aims of the exercises this week\n",
    "\n",
    "This exercise deals with various mean values and variances in  linear regression method (here it may be useful to look up chapter 3, equation (3.8) of [Trevor Hastie, Robert Tibshirani, Jerome H. Friedman, The Elements of Statistical Learning, Springer](https://www.springer.com/gp/book/9780387848570)). The exercise is also a part of project 1 and can be reused in the theory part of the project.\n",
    "\n",
    "For more discussions on Ridge regression and calculation of expectation values, [Wessel van Wieringen's](https://arxiv.org/abs/1509.09169) article is highly recommended.\n",
    "\n",
    "The assumption we have made is \n",
    "that there exists a continuous function $f(\\boldsymbol{x})$ and  a normal distributed error $\\boldsymbol{\\varepsilon}\\sim N(0, \\sigma^2)$\n",
    "which describes our data"
   ]
  },
  {
   "cell_type": "markdown",
   "id": "964cf4c4",
   "metadata": {},
   "source": [
    "$$\n",
    "\\boldsymbol{y} = f(\\boldsymbol{x})+\\boldsymbol{\\varepsilon}\n",
    "$$"
   ]
  },
  {
   "cell_type": "markdown",
   "id": "bc8b093a",
   "metadata": {},
   "source": [
    "We then approximate this function $f(\\boldsymbol{x})$ with our model $\\boldsymbol{\\tilde{y}}$ from the solution of the linear regression equations (ordinary least squares OLS), that is our\n",
    "function $f$ is approximated by $\\boldsymbol{\\tilde{y}}$ where we minimized  $(\\boldsymbol{y}-\\boldsymbol{\\tilde{y}})^2$, with"
   ]
  },
  {
   "cell_type": "markdown",
   "id": "bc1907b5",
   "metadata": {},
   "source": [
    "$$\n",
    "\\boldsymbol{\\tilde{y}} = \\boldsymbol{X}\\boldsymbol{\\beta}.\n",
    "$$"
   ]
  },
  {
   "cell_type": "markdown",
   "id": "c7d29897",
   "metadata": {},
   "source": [
    "The matrix $\\boldsymbol{X}$ is the so-called design or feature matrix."
   ]
  },
  {
   "cell_type": "markdown",
   "id": "e45dbe57",
   "metadata": {},
   "source": [
    "## Exercise 1: Expectation values for ordinary least squares expressions\n",
    "\n",
    "Show that  the expectation value of $\\boldsymbol{y}$ for a given element $i$"
   ]
  },
  {
   "cell_type": "markdown",
   "id": "0331d3dd",
   "metadata": {},
   "source": [
    "$$\n",
    "\\mathbb{E}(y_i)  =\\sum_{j}x_{ij} \\beta_j=\\mathbf{X}_{i, \\ast} \\, \\boldsymbol{\\beta},\n",
    "$$"
   ]
  },
  {
   "cell_type": "markdown",
   "id": "51159839",
   "metadata": {},
   "source": [
    "and that\n",
    "its variance is"
   ]
  },
  {
   "cell_type": "markdown",
   "id": "6df6ca33",
   "metadata": {},
   "source": [
    "$$\n",
    "\\mbox{Var}(y_i)  = \\sigma^2.\n",
    "$$"
   ]
  },
  {
   "cell_type": "markdown",
   "id": "6bf812e3",
   "metadata": {},
   "source": [
    "Hence, $y_i \\sim N( \\mathbf{X}_{i, \\ast} \\, \\boldsymbol{\\beta}, \\sigma^2)$, that is $\\boldsymbol{y}$ follows a normal distribution with \n",
    "mean value $\\boldsymbol{X}\\boldsymbol{\\beta}$ and variance $\\sigma^2$.\n",
    "\n",
    "With the OLS expressions for the optimal parameters $\\boldsymbol{\\hat{\\beta}}$ show that"
   ]
  },
  {
   "cell_type": "markdown",
   "id": "1e04714b",
   "metadata": {},
   "source": [
    "$$\n",
    "\\mathbb{E}(\\boldsymbol{\\hat{\\beta}}) = \\boldsymbol{\\beta}.\n",
    "$$"
   ]
  },
  {
   "cell_type": "markdown",
   "id": "621afaa2",
   "metadata": {},
   "source": [
    "Show finally that the variance of $\\boldsymbol{\\beta}$ is"
   ]
  },
  {
   "cell_type": "markdown",
   "id": "b7aa535d",
   "metadata": {},
   "source": [
    "$$\n",
    "\\mbox{Var}(\\boldsymbol{\\hat{\\beta}}) = \\sigma^2 \\, (\\mathbf{X}^{T} \\mathbf{X})^{-1}.\n",
    "$$"
   ]
  },
  {
   "cell_type": "markdown",
   "id": "45ea3a92",
   "metadata": {},
   "source": [
    "We can use the last expression when we define a [so-called confidence interval](https://en.wikipedia.org/wiki/Confidence_interval) for the parameters $\\beta$. \n",
    "A given parameter $\\beta_j$ is given by the diagonal matrix element of the above matrix."
   ]
  },
  {
   "cell_type": "markdown",
   "id": "3851ded2",
   "metadata": {},
   "source": [
    "## Exercise 2: Expectation values for Ridge regression\n",
    "\n",
    "Show that"
   ]
  },
  {
   "cell_type": "markdown",
   "id": "c759e617",
   "metadata": {},
   "source": [
    "$$\n",
    "\\mathbb{E} \\big[ \\boldsymbol{\\beta}^{\\mathrm{Ridge}} \\big]=(\\mathbf{X}^{T} \\mathbf{X} + \\lambda \\mathbf{I}_{pp})^{-1} (\\mathbf{X}^{\\top} \\mathbf{X})\\\n",
    "\\boldsymbol{\\beta}^{\\mathrm{OLS}}.\n",
    "$$"
   ]
  },
  {
   "cell_type": "markdown",
   "id": "c16482df",
   "metadata": {},
   "source": [
    "We see clearly that\n",
    "$\\mathbb{E} \\big[ \\boldsymbol{\\beta}^{\\mathrm{Ridge}} \\big] \\not= \\boldsymbol{\\beta}^{\\mathrm{OLS}}$ for any $\\lambda > 0$.\n",
    "\n",
    "Show also that the variance is"
   ]
  },
  {
   "cell_type": "markdown",
   "id": "2e2cda9b",
   "metadata": {},
   "source": [
    "$$\n",
    "\\mbox{Var}[\\boldsymbol{\\beta}^{\\mathrm{Ridge}}]=\\sigma^2[  \\mathbf{X}^{T} \\mathbf{X} + \\lambda \\mathbf{I} ]^{-1}  \\mathbf{X}^{T}\\mathbf{X} \\{ [  \\mathbf{X}^{\\top} \\mathbf{X} + \\lambda \\mathbf{I} ]^{-1}\\}^{T},\n",
    "$$"
   ]
  },
  {
   "cell_type": "markdown",
   "id": "d69a45ab",
   "metadata": {},
   "source": [
    "and it is easy to see that if the parameter $\\lambda$ goes to infinity then the variance of Ridge parameters $\\boldsymbol{\\beta}$ goes to zero."
   ]
  }
 ],
 "metadata": {
  "kernelspec": {
   "display_name": "Python 3 (ipykernel)",
   "language": "python",
   "name": "python3"
  },
  "language_info": {
   "codemirror_mode": {
    "name": "ipython",
    "version": 3
   },
   "file_extension": ".py",
   "mimetype": "text/x-python",
   "name": "python",
   "nbconvert_exporter": "python",
   "pygments_lexer": "ipython3",
   "version": "3.10.12"
  }
 },
 "nbformat": 4,
 "nbformat_minor": 5
}
